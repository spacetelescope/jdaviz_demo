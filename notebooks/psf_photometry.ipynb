{
 "cells": [
  {
   "cell_type": "markdown",
   "id": "7bb65a57-635f-4b00-8602-54ec2ca27895",
   "metadata": {
    "execution": {
     "iopub.execute_input": "2025-01-30T19:12:03.494332Z",
     "iopub.status.busy": "2025-01-30T19:12:03.493580Z",
     "iopub.status.idle": "2025-01-30T19:12:03.502022Z",
     "shell.execute_reply": "2025-01-30T19:12:03.500334Z",
     "shell.execute_reply.started": "2025-01-30T19:12:03.494278Z"
    }
   },
   "source": [
    "<img src=\"https://photutils.readthedocs.io/en/latest/_images/photutils_logo_light_plain_path.svg\" width=500 alt=\"Photutils logo\" style=\"margin-left: 0;\">"
   ]
  },
  {
   "cell_type": "markdown",
   "id": "77cbd1d8-e6a0-4332-abe3-bcafc16c4235",
   "metadata": {},
   "source": [
    "This notebook provides an overview of PSF photometry using [Photutils](https://photutils.readthedocs.io/en/stable/)."
   ]
  },
  {
   "cell_type": "markdown",
   "id": "a61a3483-4379-4a32-8555-b4f920915e2f",
   "metadata": {},
   "source": [
    "# Preliminaries"
   ]
  },
  {
   "cell_type": "code",
   "execution_count": null,
   "id": "1e2f060c-f612-4fc4-a8bf-af32abac6779",
   "metadata": {},
   "outputs": [],
   "source": [
    "# Initial imports\n",
    "import matplotlib as mpl\n",
    "import matplotlib.pyplot as plt\n",
    "import numpy as np\n",
    "import webbpsf\n",
    "from astropy.table import QTable\n",
    "from astropy.visualization import simple_norm\n",
    "from photutils.aperture import CircularAperture\n",
    "from photutils.datasets import make_noise_image\n",
    "from photutils.detection import IRAFStarFinder\n",
    "from photutils.psf import (AiryDiskPSF, CircularGaussianPSF, GaussianPSF,\n",
    "                           GriddedPSFModel, MoffatPSF, PSFPhotometry,\n",
    "                           SourceGrouper, make_psf_model_image)\n",
    "from photutils.utils import make_random_cmap\n",
    "from tweakwcs import XYXYMatch\n",
    "\n",
    "# Change some default plotting parameters\n",
    "mpl.rcParams['image.origin'] = 'lower'\n",
    "mpl.rcParams['image.interpolation'] = 'nearest'"
   ]
  },
  {
   "cell_type": "markdown",
   "id": "20a4eef0-612a-4324-b9bb-037899817aee",
   "metadata": {},
   "source": [
    "# Point Spread Function Photometry with Photutils\n",
    "\n",
    "The Photutils PSF photometry module provides modular tools that allow users to completely customize the photometry procedure, e.g., by using different source detection algorithms, local background estimators, source groupers, and PSF models. Photutils provides implementations for each subtask involved in the photometry process, however, users are still able to include their own custom implementations.\n",
    "\n",
    "This modularity is accomplished by using an object oriented programming approach that provides a more convenient user experience.\n",
    "\n",
    "Photutils provides two top-level classes to perform PSF photometry, `PSFPhotometry` and `IterativelyPSFPhotometry`. In this notebook, we will cover the basics of the `PSFPhotometry` class."
   ]
  },
  {
   "cell_type": "markdown",
   "id": "b05dd4a2-ff4f-4197-b650-5f27626448a3",
   "metadata": {
    "execution": {
     "iopub.execute_input": "2025-01-08T04:00:00.417949Z",
     "iopub.status.busy": "2025-01-08T04:00:00.416903Z",
     "iopub.status.idle": "2025-01-08T04:00:00.424434Z",
     "shell.execute_reply": "2025-01-08T04:00:00.423026Z",
     "shell.execute_reply.started": "2025-01-08T04:00:00.417909Z"
    }
   },
   "source": [
    "# PSF Models"
   ]
  },
  {
   "cell_type": "markdown",
   "id": "8d0e56b8-5fa8-4093-a160-686a0a755007",
   "metadata": {},
   "source": [
    "PSF photometry fundamentally involves fitting models to data. As such, the PSF model is a critical component of PSF photometry. For accurate results, both for photometry and astrometry, the PSF model should be a good representation of the actual data. The PSF model can be a simple analytic function, such as a 2D Gaussian or Moffat profile, or it can be a more complex model derived from a 2D PSF image, e.g., an effective PSF (ePSF). The PSF model can also encapsulate changes in the PSF across the detector, e.g., due to optical aberrations.\n",
    "\n",
    "Photutils provides the following analytic PSF Models based on the [Astropy Modeling and Fitting framework](https://docs.astropy.org/en/latest/modeling/index.html):\n",
    "\n",
    "* [GaussianPSF](https://photutils.readthedocs.io/en/latest/api/photutils.psf.GaussianPSF.html#photutils.psf.GaussianPSF)\n",
    "* [CircularGaussianPSF](https://photutils.readthedocs.io/en/latest/api/photutils.psf.CircularGaussianPSF.html#photutils.psf.CircularGaussianPSF)\n",
    "* [MoffatPSF](https://photutils.readthedocs.io/en/latest/api/photutils.psf.MoffatPSF.html#photutils.psf.MoffatPSF)\n",
    "* [AiryDiskPSF](https://photutils.readthedocs.io/en/latest/api/photutils.psf.AiryDiskPSF.html#photutils.psf.AiryDiskPSF)\n",
    "* [GaussianPRF](https://photutils.readthedocs.io/en/latest/api/photutils.psf.GaussianPRF.html#photutils.psf.GaussianPRF)\n",
    "* [CircularGaussianPRF](https://photutils.readthedocs.io/en/latest/api/photutils.psf.CircularGaussianPRF.html#photutils.psf.CircularGaussianPRF)\n",
    "\n",
    "It also includes image-based PSF models:\n",
    "\n",
    "* [ImagePSF](https://photutils.readthedocs.io/en/latest/api/photutils.psf.ImagePSF.html#photutils.psf.ImagePSF)\n",
    "* [GriddedPSFModel](https://photutils.readthedocs.io/en/latest/api/photutils.psf.ImagePSF.html#photutils.psf.ImagePSF)"
   ]
  },
  {
   "cell_type": "code",
   "execution_count": null,
   "id": "bd6d9ca1-61b1-4ff0-8074-786afc4f7a05",
   "metadata": {},
   "outputs": [],
   "source": [
    "flux = 71.4\n",
    "x_0 = 24.3\n",
    "y_0 = 25.2\n",
    "models = [\n",
    "    CircularGaussianPSF(flux=flux, x_0=x_0, y_0=y_0, fwhm=10.1),\n",
    "    GaussianPSF(flux=flux, x_0=x_0, y_0=y_0, x_fwhm=10.1, y_fwhm=5.82, theta=21.7),\n",
    "    MoffatPSF(flux=flux, x_0=x_0, y_0=y_0, alpha=5.1, beta=3.2),\n",
    "    AiryDiskPSF(flux=flux, x_0=x_0, y_0=y_0, radius=5),\n",
    "]\n",
    "\n",
    "fig, ax = plt.subplots(nrows=2, ncols=2, figsize=(8, 8))\n",
    "ax = ax.flatten()\n",
    "yy, xx = np.mgrid[0:51, 0:51]\n",
    "for i, model in enumerate(models):\n",
    "    data = model(xx, yy)\n",
    "    norm = simple_norm(data, 'sqrt')\n",
    "    axim = ax[i].imshow(data, norm=norm)\n",
    "    ax[i].set_title(model.__class__.__name__)"
   ]
  },
  {
   "cell_type": "markdown",
   "id": "fa221430-c740-4dae-b6a0-c8d48d858b08",
   "metadata": {},
   "source": [
    "# WebbPSF\n",
    "\n",
    "[WebbPSF](https://webbpsf.readthedocs.io/en/latest/) is a Python package that computes simulated PSFs for both JWST and Roman.\n",
    "\n",
    "Let's use webbpsf to create some JWST and Roman PSFs. Please see the [WebbPSF documentation](https://webbpsf.readthedocs.io/en/latest/) for details."
   ]
  },
  {
   "cell_type": "code",
   "execution_count": null,
   "id": "9b553e00-9d88-4958-a9fb-e3d190cf6aa8",
   "metadata": {},
   "outputs": [],
   "source": [
    "insts = ['JWST NIRCam', 'JWST NIRISS', 'JWST MIRI', 'Roman WFI']\n",
    "filts = ['F210M', 'F380M', 'F1000W', 'F087']\n",
    "oversample = 4\n",
    "fov_arcsec = 5\n",
    "\n",
    "psfs = []\n",
    "\n",
    "nircam = webbpsf.NIRCam()\n",
    "nircam.filter = filts[0]\n",
    "psfs.append(nircam.calc_psf(oversample=oversample, fov_arcsec=fov_arcsec))\n",
    "\n",
    "niriss = webbpsf.NIRISS()\n",
    "niriss.filter = filts[1]\n",
    "psfs.append(niriss.calc_psf(oversample=oversample, fov_arcsec=fov_arcsec))\n",
    "\n",
    "miri = webbpsf.MIRI()\n",
    "miri.filter = filts[2]\n",
    "psfs.append(miri.calc_psf(oversample=oversample, fov_arcsec=fov_arcsec))\n",
    "\n",
    "wfi = webbpsf.WFI()\n",
    "wfi.filter = filts[3]\n",
    "psfs.append(wfi.calc_psf(oversample=oversample, fov_arcsec=fov_arcsec))"
   ]
  },
  {
   "cell_type": "code",
   "execution_count": null,
   "id": "b8a1798b-0959-49f8-8d6a-b228a117338e",
   "metadata": {},
   "outputs": [],
   "source": [
    "fig, ax = plt.subplots(nrows=2, ncols=2, figsize=(8, 8))\n",
    "ax = ax.flatten()\n",
    "for i, (inst, filt, psf) in enumerate(zip(insts, filts, psfs)):\n",
    "    data = psf[0].data  # oversampled, non-distorted PSF\n",
    "    norm = simple_norm(data, 'log', vmin=1e-7, vmax=0.1, log_a=1e6)\n",
    "    ax[i].imshow(data, norm=norm)\n",
    "    ax[i].set_title(f'{inst} {filt}')"
   ]
  },
  {
   "cell_type": "code",
   "execution_count": null,
   "id": "5b68c2dd-944a-4fe1-862d-addd5c46d198",
   "metadata": {},
   "outputs": [],
   "source": [
    "psfs[0].info()"
   ]
  },
  {
   "cell_type": "code",
   "execution_count": null,
   "id": "69f6eb53-8fcc-4ebe-a1eb-e00090e5f1d0",
   "metadata": {},
   "outputs": [],
   "source": [
    "webbpsf.display_psf(psfs[2], ext='DET_DIST')"
   ]
  },
  {
   "cell_type": "markdown",
   "id": "ee1d5b0e-08fd-4390-a385-462d2486227e",
   "metadata": {},
   "source": [
    "## Create a Photutils `GriddedPSFModel` with `webbpsf`.\n",
    "\n",
    "A gridded PSF model is a grid of position-dependent ePSFs that takes into account the PSF varying across the detector.\n",
    "\n",
    "Let's use `webbpsf` to create a gridded PSF model for JWST/NIRCam F200W in detector NRCA1."
   ]
  },
  {
   "cell_type": "code",
   "execution_count": null,
   "id": "ecf2fd2a-f0d6-4567-9306-f8dc47a44421",
   "metadata": {},
   "outputs": [],
   "source": [
    "# How to calculate the GriddedPSFModel file that we load in the next cell\n",
    "# nrc = webbpsf.NIRCam()\n",
    "# nrc.filter = 'F200W'\n",
    "# nrc.detector = 'NRCA1'\n",
    "# psf_model = nrc.psf_grid(num_psfs=16, all_detectors=False, verbose=True, save=True)"
   ]
  },
  {
   "cell_type": "code",
   "execution_count": null,
   "id": "a5005e5a-c61e-44e5-bd78-7b699f9bb66c",
   "metadata": {},
   "outputs": [],
   "source": [
    "# load the webbpsf GriddedPSF model from the pre-downloaded data\n",
    "filename = '../data/nircam_nrca1_f200w_fovp101_samp4_npsf16.fits'\n",
    "psf_model = GriddedPSFModel.read(filename)\n",
    "psf_model"
   ]
  },
  {
   "cell_type": "code",
   "execution_count": null,
   "id": "c57d94f2-9eac-46f6-be90-5b76ba291a32",
   "metadata": {},
   "outputs": [],
   "source": [
    "# the default oversampling = 4\n",
    "psf_model.oversampling"
   ]
  },
  {
   "cell_type": "code",
   "execution_count": null,
   "id": "7386e802-bafc-440d-9b83-cf0576106044",
   "metadata": {},
   "outputs": [],
   "source": [
    "# psf_model contains a 3D cube of PSFs\n",
    "# 16 2D PSFs each 404 x 404 pixels\n",
    "psf_model.data.shape"
   ]
  },
  {
   "cell_type": "code",
   "execution_count": null,
   "id": "7fa0dc83-5304-4790-8c49-00ea043bf079",
   "metadata": {},
   "outputs": [],
   "source": [
    "fig = psf_model.plot_grid(vmax_scale=0.1, figsize=(9, 9))"
   ]
  },
  {
   "cell_type": "code",
   "execution_count": null,
   "id": "dd1e441c-536e-418a-a6fc-7a2513b9f63c",
   "metadata": {},
   "outputs": [],
   "source": [
    "fig = psf_model.plot_grid(deltas=True, figsize=(9, 9))"
   ]
  },
  {
   "cell_type": "markdown",
   "id": "f155225d-cbdc-428e-90ec-3f4e3b4d6747",
   "metadata": {},
   "source": [
    "# Let's use this PSF model to create an image of simulated stars\n",
    "\n",
    "We'll use the `photutils.psf` [make_psf_model_image](https://photutils.readthedocs.io/en/latest/api/photutils.psf.make_psf_model_image.html) function.\n",
    "### 500 stars in a 2048 x 2048 image (NIRCam SW A1)"
   ]
  },
  {
   "cell_type": "code",
   "execution_count": null,
   "id": "3e617b92-1d55-41e1-a0bf-3fd07632c0f3",
   "metadata": {},
   "outputs": [],
   "source": [
    "n_sources = 500\n",
    "shape = (2048, 2048)\n",
    "data, true_params = make_psf_model_image(shape, psf_model, n_sources,\n",
    "                                         flux=(500, 20_000), min_separation=25,\n",
    "                                         seed=0, progress_bar=True)"
   ]
  },
  {
   "cell_type": "code",
   "execution_count": null,
   "id": "9c88fa33-b3e0-4996-b63e-c77e2a45efdb",
   "metadata": {},
   "outputs": [],
   "source": [
    "fig, ax = plt.subplots(figsize=(10, 10))\n",
    "norm = simple_norm(data, 'sqrt', percent=98)\n",
    "axim = ax.imshow(data, norm=norm)"
   ]
  },
  {
   "cell_type": "markdown",
   "id": "486b9ea3-97b2-4765-bf3d-d0383aabbfa6",
   "metadata": {},
   "source": [
    "Now let's add some Gaussian noise (σ = 0.5) to the image."
   ]
  },
  {
   "cell_type": "code",
   "execution_count": null,
   "id": "9862d8f0-babd-4089-81a6-d98b2b885480",
   "metadata": {},
   "outputs": [],
   "source": [
    "noise = make_noise_image(data.shape, mean=0, stddev=0.5, seed=0)\n",
    "data += noise\n",
    "error = np.sqrt(np.abs(data))\n",
    "fig, ax = plt.subplots(figsize=(10, 10))\n",
    "norm2 = simple_norm(data, 'sqrt', percent=99)\n",
    "axim = ax.imshow(data, norm=norm2)"
   ]
  },
  {
   "cell_type": "markdown",
   "id": "9041cdb5-14f9-4fa9-a889-15ec3fe532a4",
   "metadata": {},
   "source": [
    "The `true_params` output contains an Astropy table containing the true (x, y, flux) of our artificial sources."
   ]
  },
  {
   "cell_type": "code",
   "execution_count": null,
   "id": "68d1a504-f455-4ed7-9da1-ac1193af8bc7",
   "metadata": {},
   "outputs": [],
   "source": [
    "true_params"
   ]
  },
  {
   "cell_type": "markdown",
   "id": "b9de0c13-40fb-40e9-aba0-be2f1d037918",
   "metadata": {},
   "source": [
    "# Finding Stars in an Image [(photutils.detection)](https://photutils.readthedocs.io/en/latest/user_guide/detection.html)\n",
    "\n",
    "Let's use the [IRAFStarFinder class](\n",
    "https://photutils.readthedocs.io/en/latest/api/photutils.detection.IRAFStarFinder.html#photutils.detection.IRAFStarFinder)\n",
    " to find the stars in the simulated image."
   ]
  },
  {
   "cell_type": "code",
   "execution_count": null,
   "id": "564f6b0b-02f1-4ada-8ba0-ed74611c8c31",
   "metadata": {},
   "outputs": [],
   "source": [
    "finder = IRAFStarFinder(threshold=6.0, fwhm=3.0)\n",
    "stars = finder(data)"
   ]
  },
  {
   "cell_type": "code",
   "execution_count": null,
   "id": "0523b5be-dc67-43f9-b4da-87524d23fd58",
   "metadata": {},
   "outputs": [],
   "source": [
    "stars"
   ]
  },
  {
   "cell_type": "code",
   "execution_count": null,
   "id": "3a34539d-ac5b-47ba-9c10-732616632906",
   "metadata": {},
   "outputs": [],
   "source": [
    "fig, ax = plt.subplots(figsize=(10, 10))\n",
    "axim = ax.imshow(data, norm=norm2)\n",
    "xypos = zip(stars['xcentroid'], stars['ycentroid'])\n",
    "aper = CircularAperture(xypos, r=20)\n",
    "patches = aper.plot(ax=ax, color='red')"
   ]
  },
  {
   "cell_type": "markdown",
   "id": "d97a18a8-a62a-4e9a-9996-8efda917d164",
   "metadata": {
    "execution": {
     "iopub.execute_input": "2024-01-03T01:09:16.731455Z",
     "iopub.status.busy": "2024-01-03T01:09:16.731079Z",
     "iopub.status.idle": "2024-01-03T01:09:16.734991Z",
     "shell.execute_reply": "2024-01-03T01:09:16.734203Z",
     "shell.execute_reply.started": "2024-01-03T01:09:16.731424Z"
    }
   },
   "source": [
    "# The `PSFPhotometry` class"
   ]
  },
  {
   "cell_type": "markdown",
   "id": "921c64ea-8bb8-4323-8658-2ad90533ec2e",
   "metadata": {},
   "source": [
    "First, we create the `PSFPhotometry` class instance with a few parameters.\n",
    "\n",
    "We must input a PSF model, which must be an Astropy `Fittable2DModel`.  Photutils provides several PSF models, including a [`GriddedPSFModel`](https://photutils.readthedocs.io/en/latest/api/photutils.psf.GriddedPSFModel.html#photutils.psf.GriddedPSFModel) for spatially-varying PSFs.\n",
    "\n",
    "We must also input the `fit_shape` parameter, which defines the region around the center of the PSF that is used for fitting the model.\n",
    "\n",
    "The `finder` keyword takes a Photutils finder object.  Here, we use the `IRAFStarFinder`.  We also input an `aperture_radius` (in pixels) to estimate the initial source fluxes."
   ]
  },
  {
   "cell_type": "code",
   "execution_count": null,
   "id": "b911d80e-2880-49da-8edb-785f32ce1a4b",
   "metadata": {},
   "outputs": [],
   "source": [
    "fit_shape = (5, 5)\n",
    "finder = IRAFStarFinder(threshold=6.0, fwhm=3.0)\n",
    "psfphot = PSFPhotometry(psf_model, fit_shape, finder=finder, aperture_radius=5, progress_bar=True)"
   ]
  },
  {
   "cell_type": "markdown",
   "id": "ef9450c7-f87c-4f57-a722-9da65c9f59da",
   "metadata": {},
   "source": [
    "To perform the PSF fitting, we call the `psfphot` object on the data and optional error array.  The result is an Astropy [QTable](https://docs.astropy.org/en/latest/table/index.html) with the fit results."
   ]
  },
  {
   "cell_type": "code",
   "execution_count": null,
   "id": "85a9b348-fd53-4815-acd2-a9a1423c8a9c",
   "metadata": {},
   "outputs": [],
   "source": [
    "phot = psfphot(data, error=error)\n",
    "phot"
   ]
  },
  {
   "cell_type": "markdown",
   "id": "40b1d9c0-4f20-4650-82e7-4fadcf8f3779",
   "metadata": {},
   "source": [
    "We can also use the `make_model_image` method to create a PSF model image of the results."
   ]
  },
  {
   "cell_type": "code",
   "execution_count": null,
   "id": "06a4cb98-7855-4f67-80ec-d50962c982bf",
   "metadata": {},
   "outputs": [],
   "source": [
    "model_img = psfphot.make_model_image(data.shape)\n",
    "\n",
    "fig, ax = plt.subplots(figsize=(10, 10))\n",
    "axim = ax.imshow(model_img, norm=norm)"
   ]
  },
  {
   "cell_type": "markdown",
   "id": "cdaaad23-90a5-49ce-bf6e-36b7a861a04c",
   "metadata": {},
   "source": [
    "We can use the `make_residual_image` method to create a residual image."
   ]
  },
  {
   "cell_type": "code",
   "execution_count": null,
   "id": "4dd62bfb-9f90-461f-a083-24146d09a293",
   "metadata": {},
   "outputs": [],
   "source": [
    "resid = psfphot.make_residual_image(data)\n",
    "\n",
    "fig, ax = plt.subplots(figsize=(10, 10))\n",
    "norm3 = simple_norm(data, 'sqrt', percent=95)\n",
    "axim = ax.imshow(resid, norm=norm3)"
   ]
  },
  {
   "cell_type": "markdown",
   "id": "4624f94b-2eac-40ac-851a-4593d61bfebe",
   "metadata": {},
   "source": [
    "Our residual image is just noise without any sources, which indicates excellent PSF model fits."
   ]
  },
  {
   "cell_type": "markdown",
   "id": "1b79fd85-4702-4f47-a792-b95d47ebed9e",
   "metadata": {},
   "source": [
    "## Comparing results\n",
    "\n",
    "Let's use our knowledge of the true (x, y) positions and fluxes to compare to our PSF fit results.\n",
    "\n",
    "We first need to match the table catalogs."
   ]
  },
  {
   "cell_type": "code",
   "execution_count": null,
   "id": "6a668890-3dce-4d2d-a35d-e44d9ec4e12e",
   "metadata": {},
   "outputs": [],
   "source": [
    "# convenience function to match (x, y) positions\n",
    "def xymatch_catalogs(ref_params, params):\n",
    "    refcat = QTable()\n",
    "    refcat['TPx'] = ref_params['x_0']\n",
    "    refcat['TPy'] = ref_params['y_0']\n",
    "    fitcat = QTable()\n",
    "    fitcat['TPx'] = params['x_fit']\n",
    "    fitcat['TPy'] = params['y_fit']\n",
    "    match = XYXYMatch(separation=1)\n",
    "    ref_idx, fit_idx = match(refcat, fitcat)\n",
    "\n",
    "    return ref_params[ref_idx], params[fit_idx]"
   ]
  },
  {
   "cell_type": "code",
   "execution_count": null,
   "id": "ac5edeab-13f9-4972-8f5b-062feee9e3e9",
   "metadata": {},
   "outputs": [],
   "source": [
    "true_params, fit_params = xymatch_catalogs(true_params, phot)"
   ]
  },
  {
   "cell_type": "code",
   "execution_count": null,
   "id": "1dfea574-7105-43d3-a185-f0fca75bc148",
   "metadata": {},
   "outputs": [],
   "source": [
    "fig, ax = plt.subplots(ncols=3, figsize=(12, 4))\n",
    "ax[0].plot(true_params['x_0'], fit_params['x_fit'], '.')\n",
    "ax[0].set_xlabel('x True')\n",
    "ax[0].set_ylabel('x Fit')\n",
    "ax[1].plot(true_params['y_0'], fit_params['y_fit'], '.')\n",
    "ax[1].set_xlabel('y True')\n",
    "ax[1].set_ylabel('y Fit')\n",
    "ax[2].plot(true_params['flux'], fit_params['flux_fit'], '.')\n",
    "ax[2].set_xlabel('Flux True')\n",
    "ax[2].set_ylabel('Flux Fit')\n",
    "plt.tight_layout()"
   ]
  },
  {
   "cell_type": "code",
   "execution_count": null,
   "id": "1d82b59a-08dc-4583-8f7e-86d5931b5761",
   "metadata": {},
   "outputs": [],
   "source": [
    "fig, ax = plt.subplots()\n",
    "pdiff = (true_params['flux'] - fit_params['flux_fit']) / true_params['flux'] * 100.0\n",
    "ax.hist(pdiff, bins=50)\n",
    "text = ax.set_xlabel('True/Fit Flux Percent Difference')"
   ]
  },
  {
   "cell_type": "markdown",
   "id": "46956c2e-609c-4dbd-b49e-853c23d100e4",
   "metadata": {},
   "source": [
    "# Source Grouping\n",
    "\n",
    "Source grouping is an optional feature that allows you to group close stars that should be fit simultaneously.\n",
    "\n",
    "To turn it on, create a [SourceGrouper](https://photutils.readthedocs.io/en/latest/api/photutils.psf.SourceGrouper.html#photutils.psf.SourceGrouper) instance and input it via the grouper keyword. Here we’ll group stars that are within 20 pixels of each other:"
   ]
  },
  {
   "cell_type": "code",
   "execution_count": null,
   "id": "eec9ef92-307a-4220-aa24-7edd7f11b839",
   "metadata": {},
   "outputs": [],
   "source": [
    "finder = IRAFStarFinder(threshold=6.0, fwhm=3.0)\n",
    "stars = finder(data)\n",
    "stars[0:5]"
   ]
  },
  {
   "cell_type": "code",
   "execution_count": null,
   "id": "4d2ce3d3-2bed-46fd-ad10-461fe09beb1f",
   "metadata": {},
   "outputs": [],
   "source": [
    "min_separation = 35\n",
    "grouper = SourceGrouper(min_separation)"
   ]
  },
  {
   "cell_type": "code",
   "execution_count": null,
   "id": "0c6bbee5-1fbd-46ee-9694-c76649cb9a32",
   "metadata": {},
   "outputs": [],
   "source": [
    "x = np.array(stars['xcentroid'])\n",
    "y = np.array(stars['ycentroid'])\n",
    "group_ids = grouper(x, y)"
   ]
  },
  {
   "cell_type": "markdown",
   "id": "dbe6bcd1-675f-4f08-9cf8-0943ca694164",
   "metadata": {},
   "source": [
    "Groups is an array with 500 elements (1 per input (x, y) position) with the group IDS."
   ]
  },
  {
   "cell_type": "code",
   "execution_count": null,
   "id": "ef0bd411-695e-432b-b113-0277ebc0fe18",
   "metadata": {},
   "outputs": [],
   "source": [
    "group_ids"
   ]
  },
  {
   "cell_type": "markdown",
   "id": "f0caf90c-acaf-4203-bccd-614ce39ca845",
   "metadata": {},
   "source": [
    "The grouping algorithm separated the 500 stars into 428 distinct groups"
   ]
  },
  {
   "cell_type": "code",
   "execution_count": null,
   "id": "a0a9245a-914f-406d-b68e-0fcdf059b4c8",
   "metadata": {},
   "outputs": [],
   "source": [
    "print(max(group_ids))"
   ]
  },
  {
   "cell_type": "code",
   "execution_count": null,
   "id": "45775be5-34ee-4332-848d-93fc76e92e11",
   "metadata": {},
   "outputs": [],
   "source": [
    "fig, ax = plt.subplots(figsize=(10, 10))\n",
    "norm4 = simple_norm(data, 'sqrt', percent=99)\n",
    "ax.imshow(data, norm=norm4, cmap='Greys_r')\n",
    "cmap = make_random_cmap(ncolors=500, seed=123)\n",
    "for i in np.arange(1, max(group_ids) + 1):\n",
    "    mask = group_ids == i\n",
    "    xypos = zip(x[mask], y[mask])\n",
    "    ap = CircularAperture(xypos, r=20)\n",
    "    ap.plot(color=cmap.colors[i], lw=2)"
   ]
  },
  {
   "cell_type": "code",
   "execution_count": null,
   "id": "0c984116-c669-4e4c-8000-50a2a5eb751c",
   "metadata": {},
   "outputs": [],
   "source": [
    "fit_shape = (5, 5)\n",
    "finder = IRAFStarFinder(threshold=6.0, fwhm=3.0)\n",
    "min_separation = 35\n",
    "grouper = SourceGrouper(min_separation)\n",
    "psfphot = PSFPhotometry(psf_model, fit_shape, finder=finder, grouper=grouper, \n",
    "                        aperture_radius=5, progress_bar=True)\n",
    "phot = psfphot(data, error=error)\n",
    "phot"
   ]
  },
  {
   "cell_type": "markdown",
   "id": "2d010a2b-56bf-45eb-b95c-c7285006328e",
   "metadata": {},
   "source": [
    "# Fitting a single source"
   ]
  },
  {
   "cell_type": "code",
   "execution_count": null,
   "id": "5224197c-a202-4ca1-b3ac-036aea66bef2",
   "metadata": {},
   "outputs": [],
   "source": [
    "fig, ax = plt.subplots(figsize=(10, 10))\n",
    "axim = ax.imshow(data, norm=norm2)\n",
    "\n",
    "x = 743\n",
    "y = 1044\n",
    "aper = CircularAperture((x, y), r=20)\n",
    "patches = aper.plot(color='red')"
   ]
  },
  {
   "cell_type": "code",
   "execution_count": null,
   "id": "c3d77111-ab63-4523-83bd-7719cf643861",
   "metadata": {},
   "outputs": [],
   "source": [
    "init_params = QTable()\n",
    "init_params['x'] = [x]\n",
    "init_params['y'] = [y]\n",
    "\n",
    "fit_shape = (5, 5)\n",
    "psfphot = PSFPhotometry(psf_model, fit_shape, finder=None, \n",
    "                        aperture_radius=5, progress_bar=True)\n",
    "phot = psfphot(data, error=error, init_params=init_params)\n",
    "phot"
   ]
  },
  {
   "cell_type": "code",
   "execution_count": null,
   "id": "5ac5f47b-f4a8-481c-9466-1b8b7f73b619",
   "metadata": {},
   "outputs": [],
   "source": [
    "resid = psfphot.make_residual_image(data)\n",
    "\n",
    "fig, ax = plt.subplots(nrows=1, ncols=3, figsize=(15, 5))\n",
    "norm = simple_norm(data, 'sqrt', percent=99)\n",
    "ax[0].imshow(data, norm=norm)\n",
    "ax[1].imshow(data - resid, norm=norm)\n",
    "im = ax[2].imshow(resid, norm=norm)\n",
    "ax[0].set_title('Data')\n",
    "aper.plot(ax=ax[0], color='red')\n",
    "ax[1].set_title('Model')\n",
    "aper.plot(ax=ax[1], color='red')\n",
    "ax[2].set_title('Residual Image')\n",
    "aper.plot(ax=ax[2], color='red')\n",
    "plt.tight_layout()"
   ]
  },
  {
   "cell_type": "markdown",
   "id": "a86b9a1b-e0e0-438c-82b8-d09f5bfc594e",
   "metadata": {},
   "source": [
    "# Futher Reading"
   ]
  },
  {
   "cell_type": "markdown",
   "id": "245f9dbb-95ea-4421-a331-e08b81bb05ca",
   "metadata": {},
   "source": [
    "Please consult the [PSF Photometry documentation](https://photutils.readthedocs.io/en/stable/user_guide/psf.html) for additional features, including:\n",
    "\n",
    "- Forced Photometry\n",
    "- Bounded Model Parameters\n",
    "- Iterative PSF Photometry\n",
    "- Local Background Subtraction"
   ]
  },
  {
   "cell_type": "markdown",
   "id": "3ac7c996-ded5-4b78-bfc5-5fa3238e97b7",
   "metadata": {},
   "source": [
    "# Exercise"
   ]
  },
  {
   "cell_type": "markdown",
   "id": "a6de614c-69fe-4739-9318-36379ff3c823",
   "metadata": {
    "execution": {
     "iopub.execute_input": "2025-01-08T19:12:31.970013Z",
     "iopub.status.busy": "2025-01-08T19:12:31.969397Z",
     "iopub.status.idle": "2025-01-08T19:12:31.978363Z",
     "shell.execute_reply": "2025-01-08T19:12:31.976530Z",
     "shell.execute_reply.started": "2025-01-08T19:12:31.969980Z"
    }
   },
   "source": [
    "Start with the simulated image created in the following cell."
   ]
  },
  {
   "cell_type": "code",
   "execution_count": null,
   "id": "ea6a15f2-153c-4a07-9bde-fbe4526ec25e",
   "metadata": {},
   "outputs": [],
   "source": [
    "psf_model = CircularGaussianPSF(fwhm=3.1)\n",
    "n_sources = 500\n",
    "shape = (1024, 1024)\n",
    "data, true_params = make_psf_model_image(shape, psf_model, n_sources,\n",
    "                                         flux=(500, 20_000), min_separation=25,\n",
    "                                         seed=0, progress_bar=True)\n",
    "noise = make_noise_image(data.shape, mean=0, stddev=1, seed=0)\n",
    "data += noise\n",
    "error = np.sqrt(np.abs(data))\n",
    "fig, ax = plt.subplots(figsize=(10, 10))\n",
    "norm2 = simple_norm(data, 'sqrt', percent=99)\n",
    "axim = ax.imshow(data, norm=norm2)"
   ]
  },
  {
   "cell_type": "markdown",
   "id": "95d1c787-8b0e-4071-a0e1-8d1457b87dcb",
   "metadata": {},
   "source": [
    "1. Use the defined `CircularGaussianPSF` PSF model (with FWHM=3.1) to perform PSF photometry of all 500 sources in the image.\n",
    "2. Plot the residual image.\n",
    "3. Identify the 3 brightest sources in the image. What are their (x, y) positions and fluxs?\n",
    "4. Bonus: Plot the image with a red circle around these 3 brightest sources."
   ]
  },
  {
   "cell_type": "markdown",
   "id": "fd4c41cc-91a2-464d-8cd5-41ebb4a9cd65",
   "metadata": {},
   "source": [
    "# Exercise Solutions"
   ]
  },
  {
   "cell_type": "markdown",
   "id": "1a0c72ea-1ec2-4b3c-b673-0412bdb80420",
   "metadata": {},
   "source": [
    "To load the solutions, first uncomment the cells below. Then, run each cell below **twice** (once to load the solution and once more to run the code)."
   ]
  },
  {
   "cell_type": "code",
   "execution_count": null,
   "id": "3183d929-4647-42d8-99fb-97b697d87a18",
   "metadata": {},
   "outputs": [],
   "source": [
    "# %load psf_part1_solution.py"
   ]
  },
  {
   "cell_type": "code",
   "execution_count": null,
   "id": "bfd4d5c9-9640-41d5-8e32-bf300088c65e",
   "metadata": {},
   "outputs": [],
   "source": [
    "# %load psf_part2_solution.py"
   ]
  },
  {
   "cell_type": "code",
   "execution_count": null,
   "id": "6bde3607-7418-47d6-a20a-1ff87256c396",
   "metadata": {},
   "outputs": [],
   "source": [
    "# %load psf_part3_solution.py"
   ]
  },
  {
   "cell_type": "code",
   "execution_count": null,
   "id": "8dda25fe-6118-43f7-bf78-cab5500a14de",
   "metadata": {},
   "outputs": [],
   "source": [
    "# %load psf_part4_solution.py"
   ]
  }
 ],
 "metadata": {
  "kernelspec": {
   "display_name": "Python 3 (ipykernel)",
   "language": "python",
   "name": "python3"
  },
  "language_info": {
   "codemirror_mode": {
    "name": "ipython",
    "version": 3
   },
   "file_extension": ".py",
   "mimetype": "text/x-python",
   "name": "python",
   "nbconvert_exporter": "python",
   "pygments_lexer": "ipython3",
   "version": "3.13.1"
  }
 },
 "nbformat": 4,
 "nbformat_minor": 5
}
